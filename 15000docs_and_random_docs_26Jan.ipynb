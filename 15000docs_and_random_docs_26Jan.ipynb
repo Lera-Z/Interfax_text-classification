{
 "cells": [
  {
   "cell_type": "markdown",
   "metadata": {},
   "source": []
  },
  {
   "cell_type": "markdown",
   "metadata": {},
   "source": [
    "Признаки:\n",
    "1) сколько дат из будущего времени; 2) сколько интервалов длиной больше недели (двух недель/месяца?)."
   ]
  },
  {
   "cell_type": "code",
   "execution_count": 3,
   "metadata": {
    "collapsed": false
   },
   "outputs": [],
   "source": [
    "import pandas as pd\n",
    "from bs4 import BeautifulSoup\n",
    "import os\n",
    "import re\n",
    "import xgboost\n",
    "\n",
    "from numpy import loadtxt\n",
    "from xgboost import XGBClassifier\n",
    "import time\n",
    "import pickle"
   ]
  },
  {
   "cell_type": "code",
   "execution_count": 4,
   "metadata": {
    "collapsed": true
   },
   "outputs": [],
   "source": [
    "from sklearn.metrics import classification_report\n",
    "from sklearn.model_selection import cross_val_score\n",
    "import gensim\n",
    "import pymorphy2\n",
    "import numpy as np\n",
    "import pandas as pd\n",
    "\n",
    "from sklearn import linear_model\n",
    "from sklearn.model_selection import train_test_split\n",
    "from sklearn.metrics import f1_score, accuracy_score\n",
    "from sklearn.naive_bayes import MultinomialNB\n",
    "from sklearn.ensemble import RandomForestClassifier\n",
    "from sklearn.linear_model import LogisticRegression\n",
    "from sklearn.svm import SVC\n",
    "from sklearn.multiclass import OneVsRestClassifier\n",
    "from sklearn.svm import LinearSVC\n",
    "from sklearn import preprocessing\n",
    "\n",
    "from sklearn.feature_extraction.text import CountVectorizer\n",
    "from sklearn.feature_extraction.text import TfidfTransformer\n",
    "from sklearn.tree import DecisionTreeClassifier"
   ]
  },
  {
   "cell_type": "code",
   "execution_count": 5,
   "metadata": {
    "collapsed": true
   },
   "outputs": [],
   "source": [
    "import tqdm"
   ]
  },
  {
   "cell_type": "code",
   "execution_count": 6,
   "metadata": {
    "collapsed": false
   },
   "outputs": [],
   "source": [
    "import re"
   ]
  },
  {
   "cell_type": "code",
   "execution_count": 7,
   "metadata": {
    "collapsed": false
   },
   "outputs": [],
   "source": [
    "def read_txt(path,class_of_t):\n",
    "    for root, dirs, files in os.walk(path):\n",
    "        for filename in files:\n",
    "            open_name = os.path.join(root, filename)\n",
    "            f = open(open_name)\n",
    "            try:\n",
    "                cleantext = BeautifulSoup(f, 'lxml').text\n",
    "                yield class_of_t, cleantext, filename\n",
    "#                 yield open_name\n",
    "                f.close()\n",
    "            except:\n",
    "                f.close()\n",
    "                pass"
   ]
  },
  {
   "cell_type": "code",
   "execution_count": null,
   "metadata": {
    "collapsed": true
   },
   "outputs": [],
   "source": []
  },
  {
   "cell_type": "code",
   "execution_count": 8,
   "metadata": {
    "collapsed": true
   },
   "outputs": [],
   "source": [
    "data = []"
   ]
  },
  {
   "cell_type": "code",
   "execution_count": 9,
   "metadata": {
    "collapsed": false
   },
   "outputs": [],
   "source": [
    "for i in read_txt('/Users/Valeriya/Desktop/Interfax/Анонс_нерасп','Анонс'):\n",
    "    data.append(i)\n",
    "#     with open('anonce.txt', 'a') as f:\n",
    "#         f.write(re.findall('[0-9]_(.*)', i)[0].strip('.html'))\n",
    "#         f.write('\\n')"
   ]
  },
  {
   "cell_type": "code",
   "execution_count": null,
   "metadata": {
    "collapsed": false
   },
   "outputs": [],
   "source": []
  },
  {
   "cell_type": "code",
   "execution_count": 10,
   "metadata": {
    "collapsed": false
   },
   "outputs": [],
   "source": [
    "for i in read_txt('/Users/Valeriya/Desktop/Interfax/Анонс_расп', 'Анонс'):\n",
    "    data.append(i)\n",
    "    \n",
    "# #     with open('anonce.txt', 'a') as f:\n",
    "# #         f.write(re.findall('[0-9]_(.*)', i)[0].strip('.html'))\n",
    "# #         f.write('\\n')"
   ]
  },
  {
   "cell_type": "code",
   "execution_count": 11,
   "metadata": {
    "collapsed": true
   },
   "outputs": [],
   "source": [
    "for i in read_txt('/Users/Valeriya/Desktop/Interfax/Остальные_жанры', 'Остальное'):\n",
    "    data.append(i)\n",
    "    \n",
    "#     with open('other.txt', 'a') as f:\n",
    "#         f.write(re.findall('[0-9]_(.*)', i)[0].strip('.html'))\n",
    "#         f.write('\\n')"
   ]
  },
  {
   "cell_type": "code",
   "execution_count": 12,
   "metadata": {
    "collapsed": false
   },
   "outputs": [
    {
     "name": "stdout",
     "output_type": "stream",
     "text": [
      "\n"
     ]
    }
   ],
   "source": [
    "for i in tqdm.tqdm_notebook(read_txt('/Users/Valeriya/Desktop/Interfax/15000_other_genres', 'Остальное')):\n",
    "    data.append(i)"
   ]
  },
  {
   "cell_type": "code",
   "execution_count": 13,
   "metadata": {
    "collapsed": false
   },
   "outputs": [],
   "source": [
    "# len(data)"
   ]
  },
  {
   "cell_type": "code",
   "execution_count": 14,
   "metadata": {
    "collapsed": false
   },
   "outputs": [],
   "source": [
    "df = pd.DataFrame(data, columns=['y', 'X', 'filename'])"
   ]
  },
  {
   "cell_type": "code",
   "execution_count": 15,
   "metadata": {
    "collapsed": false
   },
   "outputs": [
    {
     "data": {
      "text/plain": [
       "15401"
      ]
     },
     "execution_count": 15,
     "metadata": {},
     "output_type": "execute_result"
    }
   ],
   "source": [
    "len(df.filename)"
   ]
  },
  {
   "cell_type": "code",
   "execution_count": 16,
   "metadata": {
    "collapsed": false
   },
   "outputs": [],
   "source": [
    "num = 0"
   ]
  },
  {
   "cell_type": "code",
   "execution_count": 17,
   "metadata": {
    "collapsed": false
   },
   "outputs": [],
   "source": [
    "features_arr = []"
   ]
  },
  {
   "cell_type": "code",
   "execution_count": 18,
   "metadata": {
    "collapsed": true
   },
   "outputs": [],
   "source": [
    "p = '/Users/Valeriya/Desktop/Interfax/all_features/features_15000_other_genres/dateFeature_eastrussianewswrm_219131372.txt'"
   ]
  },
  {
   "cell_type": "code",
   "execution_count": 46,
   "metadata": {
    "collapsed": true
   },
   "outputs": [],
   "source": [
    "tr = '/Users/Valeriya/Desktop/Interfax/all_features/features_15000_other_genres/dateFeature_echochelnewswrm_218481001.txt'"
   ]
  },
  {
   "cell_type": "code",
   "execution_count": null,
   "metadata": {
    "collapsed": false
   },
   "outputs": [],
   "source": []
  },
  {
   "cell_type": "code",
   "execution_count": 22,
   "metadata": {
    "collapsed": true
   },
   "outputs": [],
   "source": [
    "f = open(p).readlines()"
   ]
  },
  {
   "cell_type": "code",
   "execution_count": 219,
   "metadata": {
    "collapsed": false
   },
   "outputs": [],
   "source": [
    "# n_dates_fut = 0\n",
    "# n_dates_2weeks = 0\n",
    "# for row in f:\n",
    "#     nums = row.split('|')[0].split('\\t')\n",
    "#     num_fut = nums[0].strip('\\ufeff').strip()\n",
    "#     num_interval = nums[1].strip('\\ufeff').strip()\n",
    "#     n_dates_fut +=1\n",
    "#     if int(num[1]) >= 14:\n",
    "#         n_dates_2weeks += 1\n"
   ]
  },
  {
   "cell_type": "code",
   "execution_count": 18,
   "metadata": {
    "collapsed": false
   },
   "outputs": [
    {
     "name": "stdout",
     "output_type": "stream",
     "text": [
      "\n"
     ]
    }
   ],
   "source": [
    "n_dates_fut_array = []\n",
    "n_dates_interval = []\n",
    "path1 = '/Users/Valeriya/Desktop/Interfax/all_features/features_15000_other_genres/'\n",
    "path2 = '/Users/Valeriya/Desktop/Interfax/features_all_22november/'\n",
    "curr_path = ''\n",
    "for i in tqdm.tqdm_notebook(df.filename):\n",
    "    if i.endswith('html'):\n",
    "        fromdf = i.strip('.html')\n",
    "        fromdf = re.sub('[0-9]+_', '', fromdf)\n",
    "    elif i.endswith('xml'):\n",
    "        fromdf = i.strip('.xml')\n",
    "        fromdf = re.sub('[0-9]+_', '', fromdf)\n",
    "        \n",
    "    name = 'dateFeature_'+fromdf+'.txt'\n",
    "    \n",
    "    if os.path.exists(path2 + name):\n",
    "        curr_path = path2\n",
    "    elif os.path.exists(path1+name):\n",
    "        curr_path = path1\n",
    "    else:\n",
    "        n_dates_fut_array.append(None)\n",
    "        n_dates_interval.append(None)\n",
    "        continue\n",
    "        \n",
    "#         print('ok')\n",
    "    f = open(curr_path+name)\n",
    "    file = f.readlines()\n",
    "#     feature_vec_for_row = []\n",
    "    n_dates_fut = 0\n",
    "    n_dates_2weeks = 0\n",
    "    for row in file:\n",
    "\n",
    "        nums = row.split('|')[0].split('\\t')\n",
    "        if len(nums) == 2:\n",
    "            num_fut = nums[0].strip('\\ufeff').strip()\n",
    "            num_interval = nums[1].strip('\\ufeff').strip()\n",
    "            n_dates_fut +=1\n",
    "            if int(num_interval) >= 14:\n",
    "                n_dates_2weeks += 1\n",
    "        elif len(nums) == 1:\n",
    "            pass\n",
    "    \n",
    "    n_dates_fut_array.append([n_dates_fut])\n",
    "    n_dates_interval.append([n_dates_2weeks])\n",
    "\n",
    "\n",
    "#     features_arr.append(feature_vec_for_row)\n",
    "\n",
    "            \n",
    "            \n",
    "#             f.close()\n",
    "#             features_arr.append(nums)"
   ]
  },
  {
   "cell_type": "code",
   "execution_count": 221,
   "metadata": {
    "collapsed": false
   },
   "outputs": [],
   "source": [
    "# num_ann = 0\n",
    "# for item in features_arr:\n",
    "#     if item:\n",
    "#         if item[1] <1 and item[0] > 1:\n",
    "#             num_ann+=1"
   ]
  },
  {
   "cell_type": "code",
   "execution_count": 222,
   "metadata": {
    "collapsed": false
   },
   "outputs": [],
   "source": [
    "# len(n_dates_interval)"
   ]
  },
  {
   "cell_type": "code",
   "execution_count": 19,
   "metadata": {
    "collapsed": false,
    "scrolled": true
   },
   "outputs": [
    {
     "data": {
      "text/plain": [
       "15401"
      ]
     },
     "execution_count": 19,
     "metadata": {},
     "output_type": "execute_result"
    }
   ],
   "source": [
    "len(n_dates_fut_array)"
   ]
  },
  {
   "cell_type": "code",
   "execution_count": 20,
   "metadata": {
    "collapsed": false
   },
   "outputs": [],
   "source": [
    "# feat"
   ]
  },
  {
   "cell_type": "code",
   "execution_count": 21,
   "metadata": {
    "collapsed": false
   },
   "outputs": [],
   "source": [
    "df['n_of_dates_fut'] = n_dates_fut_array\n",
    "df['n_of_intervals'] = n_dates_interval"
   ]
  },
  {
   "cell_type": "code",
   "execution_count": 231,
   "metadata": {
    "collapsed": false
   },
   "outputs": [],
   "source": [
    "# del df['new_features']"
   ]
  },
  {
   "cell_type": "code",
   "execution_count": null,
   "metadata": {
    "collapsed": false
   },
   "outputs": [],
   "source": []
  },
  {
   "cell_type": "code",
   "execution_count": 97,
   "metadata": {
    "collapsed": false
   },
   "outputs": [],
   "source": [
    "# formal_annonce = df[df.y == 'Анонс'].form_feat\n",
    "# formal_other = df[df.y == 'Остальное'].form_feat"
   ]
  },
  {
   "cell_type": "code",
   "execution_count": 232,
   "metadata": {
    "collapsed": false
   },
   "outputs": [],
   "source": [
    "# del df['form_feat']"
   ]
  },
  {
   "cell_type": "code",
   "execution_count": 21,
   "metadata": {
    "collapsed": false
   },
   "outputs": [],
   "source": [
    "# formal_annonce"
   ]
  },
  {
   "cell_type": "code",
   "execution_count": 23,
   "metadata": {
    "collapsed": false
   },
   "outputs": [],
   "source": [
    "# # 1st number from rows\n",
    "# fst_nums_annonce = []\n",
    "# for i in formal_annonce:\n",
    "#     try:\n",
    "#         for arr in i:\n",
    "#             if arr[0] is not None:\n",
    "#                 if arr[0] == 833579:\n",
    "#                     print('!')\n",
    "#                 fst_nums_annonce.append(arr[0])\n",
    "            \n",
    "#     except:\n",
    "#         pass"
   ]
  },
  {
   "cell_type": "code",
   "execution_count": 24,
   "metadata": {
    "collapsed": false
   },
   "outputs": [],
   "source": [
    "# fst_nums_other = []\n",
    "# for i in enumerate(formal_other):\n",
    "#     try:\n",
    "#         for arr in i[1]:\n",
    "#             if arr[0] is not None:\n",
    "#                 if arr[0] == 833579:\n",
    "#                     print(i[0])\n",
    "#                 fst_nums_other.append(arr[0])\n",
    "            \n",
    "#     except:\n",
    "#         pass"
   ]
  },
  {
   "cell_type": "code",
   "execution_count": 76,
   "metadata": {
    "collapsed": false
   },
   "outputs": [],
   "source": [
    "# fst_nums_annonce = []"
   ]
  },
  {
   "cell_type": "code",
   "execution_count": 23,
   "metadata": {
    "collapsed": false
   },
   "outputs": [],
   "source": [
    "# for index, row in df[df.y == 'Анонс'].iterrows():\n",
    "#     ok_row = row['form_feat']\n",
    "#     if ok_row is not None:\n",
    "#         for arr in ok_row:\n",
    "#             try:\n",
    "#                 if arr[0] is not None:\n",
    "#                     fst_nums_annonce.append(arr[0])\n",
    "#             except:\n",
    "#                 pass"
   ]
  },
  {
   "cell_type": "code",
   "execution_count": 24,
   "metadata": {
    "collapsed": false
   },
   "outputs": [],
   "source": [
    "# fst_nums_annonce"
   ]
  },
  {
   "cell_type": "code",
   "execution_count": 77,
   "metadata": {
    "collapsed": false
   },
   "outputs": [],
   "source": [
    "# fst_nums_other = []\n",
    "# for index, row in df[df.y == 'Остальное'].iterrows():\n",
    "#     ok_row = row['form_feat']\n",
    "#     if ok_row is not None:\n",
    "#         for arr in ok_row:\n",
    "#             try:\n",
    "#                 if arr[0] is not None:\n",
    "#                     if arr[0] == 833579:\n",
    "#                         print(index)\n",
    "#                     fst_nums_other.append(arr[0])\n",
    "#             except:\n",
    "#                 pass"
   ]
  },
  {
   "cell_type": "code",
   "execution_count": 22,
   "metadata": {
    "collapsed": false
   },
   "outputs": [],
   "source": [
    "import numpy as np"
   ]
  },
  {
   "cell_type": "code",
   "execution_count": 27,
   "metadata": {
    "collapsed": false
   },
   "outputs": [],
   "source": [
    "# df.iloc[2412]"
   ]
  },
  {
   "cell_type": "code",
   "execution_count": 79,
   "metadata": {
    "collapsed": false
   },
   "outputs": [],
   "source": [
    "# np.mean(fst_nums_annonce), np.median(fst_nums_annonce), np.max(fst_nums_annonce), np.min(fst_nums_annonce)"
   ]
  },
  {
   "cell_type": "code",
   "execution_count": 80,
   "metadata": {
    "collapsed": false
   },
   "outputs": [],
   "source": [
    "# np.mean(fst_nums_other), np.median(fst_nums_other), np.max(fst_nums_other), np.min(fst_nums_other)"
   ]
  },
  {
   "cell_type": "code",
   "execution_count": 81,
   "metadata": {
    "collapsed": true
   },
   "outputs": [],
   "source": [
    "# last_nums_annonce = []\n",
    "# for index, row in df[df.y == 'Анонс'].iterrows():\n",
    "#     ok_row = row['form_feat']\n",
    "#     if ok_row is not None:\n",
    "#         for arr in ok_row:\n",
    "#             try:\n",
    "#                 if arr[1] is not None:\n",
    "#                     last_nums_annonce.append(arr[1])\n",
    "#             except:\n",
    "#                 pass"
   ]
  },
  {
   "cell_type": "code",
   "execution_count": 31,
   "metadata": {
    "collapsed": false
   },
   "outputs": [],
   "source": [
    "# last_nums_annonce"
   ]
  },
  {
   "cell_type": "code",
   "execution_count": 82,
   "metadata": {
    "collapsed": true
   },
   "outputs": [],
   "source": [
    "# last_nums_other = []\n",
    "# for index, row in df[df.y == 'Остальное'].iterrows():\n",
    "#     ok_row = row['form_feat']\n",
    "#     if ok_row is not None:\n",
    "#         for arr in ok_row:\n",
    "#             try:\n",
    "#                 if arr[1] is not None:\n",
    "#                     last_nums_other.append(arr[1])\n",
    "#             except:\n",
    "#                 pass"
   ]
  },
  {
   "cell_type": "code",
   "execution_count": 33,
   "metadata": {
    "collapsed": false
   },
   "outputs": [],
   "source": [
    "# last_nums_other"
   ]
  },
  {
   "cell_type": "code",
   "execution_count": 83,
   "metadata": {
    "collapsed": false
   },
   "outputs": [],
   "source": [
    "# np.mean(last_nums_annonce), np.median(last_nums_annonce), np.max(last_nums_annonce), np.min(last_nums_annonce)"
   ]
  },
  {
   "cell_type": "code",
   "execution_count": 84,
   "metadata": {
    "collapsed": false
   },
   "outputs": [],
   "source": [
    "# np.mean(last_nums_other), np.median(last_nums_other), np.max(last_nums_other), np.min(last_nums_other)"
   ]
  },
  {
   "cell_type": "code",
   "execution_count": 75,
   "metadata": {
    "collapsed": true
   },
   "outputs": [],
   "source": [
    "# mean, median, max по данному тексту"
   ]
  },
  {
   "cell_type": "markdown",
   "metadata": {},
   "source": [
    "## Добавляем новые признаки"
   ]
  },
  {
   "cell_type": "code",
   "execution_count": null,
   "metadata": {
    "collapsed": false
   },
   "outputs": [],
   "source": []
  },
  {
   "cell_type": "code",
   "execution_count": 94,
   "metadata": {
    "collapsed": false
   },
   "outputs": [],
   "source": [
    "# new_features = []\n",
    "\n",
    "# for row in df.form_feat:\n",
    "#     try:\n",
    "#         nums = []\n",
    "#         for item in row:\n",
    "#             nums.append(item[0])\n",
    "#         new_features.append([np.mean(nums), np.median(nums), np.max(nums)])\n",
    "#     except:\n",
    "#         new_features.append(None)\n",
    "        "
   ]
  },
  {
   "cell_type": "code",
   "execution_count": 127,
   "metadata": {
    "collapsed": false
   },
   "outputs": [],
   "source": [
    "# df['new_features'] = new_features"
   ]
  },
  {
   "cell_type": "code",
   "execution_count": null,
   "metadata": {
    "collapsed": false
   },
   "outputs": [],
   "source": []
  },
  {
   "cell_type": "code",
   "execution_count": 23,
   "metadata": {
    "collapsed": false
   },
   "outputs": [],
   "source": [
    "new_df = df.dropna()"
   ]
  },
  {
   "cell_type": "code",
   "execution_count": 24,
   "metadata": {
    "collapsed": false
   },
   "outputs": [],
   "source": [
    "# df.head()"
   ]
  },
  {
   "cell_type": "code",
   "execution_count": 25,
   "metadata": {
    "collapsed": false
   },
   "outputs": [
    {
     "data": {
      "text/plain": [
       "Остальное    14068\n",
       "Анонс          164\n",
       "Name: y, dtype: int64"
      ]
     },
     "execution_count": 25,
     "metadata": {},
     "output_type": "execute_result"
    }
   ],
   "source": [
    "new_df.y.value_counts()"
   ]
  },
  {
   "cell_type": "code",
   "execution_count": 26,
   "metadata": {
    "collapsed": false
   },
   "outputs": [],
   "source": [
    "from sklearn.feature_selection import SelectKBest\n",
    "from sklearn.feature_selection import chi2"
   ]
  },
  {
   "cell_type": "code",
   "execution_count": 27,
   "metadata": {
    "collapsed": true
   },
   "outputs": [],
   "source": [
    "X = new_df[['X', 'n_of_dates_fut', 'n_of_intervals']]\n",
    "y = new_df['y']"
   ]
  },
  {
   "cell_type": "code",
   "execution_count": null,
   "metadata": {
    "collapsed": false
   },
   "outputs": [],
   "source": []
  },
  {
   "cell_type": "code",
   "execution_count": 28,
   "metadata": {
    "collapsed": false
   },
   "outputs": [],
   "source": [
    "count_vect = CountVectorizer()\n",
    "X_2 = count_vect.fit_transform(X.X)\n",
    "tf_transformer = TfidfTransformer()\n",
    "X_2 = tf_transformer.fit_transform(X_2)"
   ]
  },
  {
   "cell_type": "code",
   "execution_count": 29,
   "metadata": {
    "collapsed": true
   },
   "outputs": [],
   "source": [
    "# X_test_Xs = count_vect.transform(X_test.X)\n",
    "# X_test_Xs = tf_transformer.transform(X_test_Xs)"
   ]
  },
  {
   "cell_type": "code",
   "execution_count": 30,
   "metadata": {
    "collapsed": true
   },
   "outputs": [],
   "source": [
    "kbest = SelectKBest(chi2, k=1000)\n",
    "kbest.fit(X_2, y)\n",
    "X_selected = kbest.transform(X_2)"
   ]
  },
  {
   "cell_type": "code",
   "execution_count": 31,
   "metadata": {
    "collapsed": false
   },
   "outputs": [],
   "source": [
    "from scipy.sparse import hstack\n",
    "from scipy.sparse import csr_matrix\n",
    "# list(X_train.new_features)"
   ]
  },
  {
   "cell_type": "code",
   "execution_count": 32,
   "metadata": {
    "collapsed": false
   },
   "outputs": [
    {
     "data": {
      "text/plain": [
       "14232"
      ]
     },
     "execution_count": 32,
     "metadata": {},
     "output_type": "execute_result"
    }
   ],
   "source": [
    "len(list(X.n_of_dates_fut))"
   ]
  },
  {
   "cell_type": "code",
   "execution_count": 33,
   "metadata": {
    "collapsed": false
   },
   "outputs": [
    {
     "data": {
      "text/plain": [
       "numpy.matrixlib.defmatrix.matrix"
      ]
     },
     "execution_count": 33,
     "metadata": {},
     "output_type": "execute_result"
    }
   ],
   "source": [
    "type(X_selected.todense())"
   ]
  },
  {
   "cell_type": "code",
   "execution_count": 34,
   "metadata": {
    "collapsed": false
   },
   "outputs": [
    {
     "data": {
      "text/plain": [
       "((14232, 1000), 14232)"
      ]
     },
     "execution_count": 34,
     "metadata": {},
     "output_type": "execute_result"
    }
   ],
   "source": [
    "X_selected.todense().shape, len(X.n_of_dates_fut)"
   ]
  },
  {
   "cell_type": "code",
   "execution_count": 35,
   "metadata": {
    "collapsed": false
   },
   "outputs": [],
   "source": [
    "# X.n_of_dates_fut"
   ]
  },
  {
   "cell_type": "code",
   "execution_count": 36,
   "metadata": {
    "collapsed": false
   },
   "outputs": [],
   "source": [
    "# добавим наши формальные признаки\n",
    "X_prefinal = np.append(X_selected.todense(), list(X.n_of_dates_fut), axis=1)"
   ]
  },
  {
   "cell_type": "code",
   "execution_count": 37,
   "metadata": {
    "collapsed": false
   },
   "outputs": [],
   "source": [
    "X_final = np.append(X_prefinal, list(X.n_of_intervals), axis=1)"
   ]
  },
  {
   "cell_type": "code",
   "execution_count": null,
   "metadata": {
    "collapsed": false
   },
   "outputs": [],
   "source": []
  },
  {
   "cell_type": "code",
   "execution_count": 38,
   "metadata": {
    "collapsed": false
   },
   "outputs": [],
   "source": [
    "X_train, X_test, y_train, y_test = train_test_split(X_final, y, test_size=0.3, stratify=y)"
   ]
  },
  {
   "cell_type": "code",
   "execution_count": 39,
   "metadata": {
    "collapsed": false
   },
   "outputs": [],
   "source": [
    "# from sklearn.decomposition import PCA"
   ]
  },
  {
   "cell_type": "code",
   "execution_count": 40,
   "metadata": {
    "collapsed": false
   },
   "outputs": [],
   "source": [
    "# pca = PCA(n_components=20)"
   ]
  },
  {
   "cell_type": "code",
   "execution_count": 41,
   "metadata": {
    "collapsed": false
   },
   "outputs": [],
   "source": [
    "# X_pca_tr= pca.fit(X_train_final)"
   ]
  },
  {
   "cell_type": "code",
   "execution_count": null,
   "metadata": {
    "collapsed": true
   },
   "outputs": [],
   "source": []
  },
  {
   "cell_type": "code",
   "execution_count": 42,
   "metadata": {
    "collapsed": false
   },
   "outputs": [],
   "source": [
    "model = XGBClassifier(max_depth=3, n_estimators=1500)"
   ]
  },
  {
   "cell_type": "code",
   "execution_count": 43,
   "metadata": {
    "collapsed": false
   },
   "outputs": [
    {
     "data": {
      "text/plain": [
       "XGBClassifier(base_score=0.5, colsample_bylevel=1, colsample_bytree=1,\n",
       "       gamma=0, learning_rate=0.1, max_delta_step=0, max_depth=3,\n",
       "       min_child_weight=1, missing=None, n_estimators=1500, nthread=-1,\n",
       "       objective='binary:logistic', reg_alpha=0, reg_lambda=1,\n",
       "       scale_pos_weight=1, seed=0, silent=True, subsample=1)"
      ]
     },
     "execution_count": 43,
     "metadata": {},
     "output_type": "execute_result"
    }
   ],
   "source": [
    "model.fit(X_train, y_train)"
   ]
  },
  {
   "cell_type": "code",
   "execution_count": 44,
   "metadata": {
    "collapsed": false
   },
   "outputs": [],
   "source": [
    "y_pred = model.predict(X_test)"
   ]
  },
  {
   "cell_type": "code",
   "execution_count": 45,
   "metadata": {
    "collapsed": false
   },
   "outputs": [
    {
     "name": "stdout",
     "output_type": "stream",
     "text": [
      "             precision    recall  f1-score   support\n",
      "\n",
      "      Анонс       0.94      0.65      0.77        49\n",
      "  Остальное       1.00      1.00      1.00      4221\n",
      "\n",
      "avg / total       1.00      1.00      1.00      4270\n",
      "\n"
     ]
    }
   ],
   "source": [
    "print(classification_report(y_test, list(y_pred)))"
   ]
  },
  {
   "cell_type": "code",
   "execution_count": null,
   "metadata": {
    "collapsed": true
   },
   "outputs": [],
   "source": []
  },
  {
   "cell_type": "markdown",
   "metadata": {},
   "source": [
    "### Результаты на 20 тысячах случайных текстов"
   ]
  },
  {
   "cell_type": "code",
   "execution_count": 46,
   "metadata": {
    "collapsed": true
   },
   "outputs": [],
   "source": [
    "def get_features():\n",
    "    n_dates_fut_array = []\n",
    "    n_dates_interval = []\n",
    "    path1 = '/Users/Valeriya/Desktop/Interfax/RandomDocsfeatures/'\n",
    "#     path2 = '/Users/Valeriya/Desktop/Interfax/features_all_22november/'\n",
    "#     curr_path = ''\n",
    "    for i in tqdm.tqdm_notebook(df_20k.filename):\n",
    "        if i.endswith('html'):\n",
    "            fromdf = i.strip('.html')\n",
    "            fromdf = re.sub('[0-9]+_', '', fromdf)\n",
    "        elif i.endswith('xml'):\n",
    "            fromdf = i.strip('.xml')\n",
    "            fromdf = re.sub('[0-9]+_', '', fromdf)\n",
    "\n",
    "        name = 'dateFeature_'+fromdf+'.txt'\n",
    "\n",
    "#         if os.path.exists(path2 + name):\n",
    "#             curr_path = path2\n",
    "        if os.path.exists(path1+name):\n",
    "            curr_path = path1\n",
    "        else:\n",
    "            n_dates_fut_array.append(None)\n",
    "            n_dates_interval.append(None)\n",
    "            continue\n",
    "\n",
    "    #         print('ok')\n",
    "        f = open(curr_path+name)\n",
    "        file = f.readlines()\n",
    "    #     feature_vec_for_row = []\n",
    "        n_dates_fut = 0\n",
    "        n_dates_2weeks = 0\n",
    "        for row in file:\n",
    "\n",
    "            nums = row.split('|')[0].split('\\t')\n",
    "            if len(nums) == 2:\n",
    "                num_fut = nums[0].strip('\\ufeff').strip()\n",
    "                num_interval = nums[1].strip('\\ufeff').strip()\n",
    "                n_dates_fut +=1\n",
    "                if int(num_interval) >= 14:\n",
    "                    n_dates_2weeks += 1\n",
    "            elif len(nums) == 1:\n",
    "                pass\n",
    "\n",
    "        n_dates_fut_array.append([n_dates_fut])\n",
    "        n_dates_interval.append([n_dates_2weeks])\n",
    "        f.close()\n",
    "        \n",
    "    return n_dates_fut_array, n_dates_interval"
   ]
  },
  {
   "cell_type": "code",
   "execution_count": 51,
   "metadata": {
    "collapsed": true
   },
   "outputs": [],
   "source": [
    "# n = 0\n",
    "def read_txt_to_predict(path):\n",
    "    for root, dirs, files in os.walk(path):\n",
    "        for filename in files:\n",
    "            open_name = os.path.join(root, filename)\n",
    "            f = open(open_name)\n",
    "            try:\n",
    "                cleantext = BeautifulSoup(f, 'lxml').text\n",
    "                yield cleantext, filename\n",
    "#                 n += 1\n",
    "#                 yield open_name\n",
    "                f.close()\n",
    "            except:\n",
    "                f.close()\n",
    "                pass"
   ]
  },
  {
   "cell_type": "code",
   "execution_count": 52,
   "metadata": {
    "collapsed": true
   },
   "outputs": [],
   "source": [
    "### collect docs"
   ]
  },
  {
   "cell_type": "code",
   "execution_count": 53,
   "metadata": {
    "collapsed": true
   },
   "outputs": [],
   "source": [
    "data_to_predict = []"
   ]
  },
  {
   "cell_type": "code",
   "execution_count": 54,
   "metadata": {
    "collapsed": false
   },
   "outputs": [
    {
     "name": "stdout",
     "output_type": "stream",
     "text": [
      "\n"
     ]
    }
   ],
   "source": [
    "for i in tqdm.tqdm_notebook(read_txt_to_predict('/Users/Valeriya/Desktop/Interfax/RandomDocs')):\n",
    "        data_to_predict.append(i)"
   ]
  },
  {
   "cell_type": "code",
   "execution_count": 55,
   "metadata": {
    "collapsed": false
   },
   "outputs": [
    {
     "data": {
      "text/plain": [
       "19996"
      ]
     },
     "execution_count": 55,
     "metadata": {},
     "output_type": "execute_result"
    }
   ],
   "source": [
    "len(data_to_predict)"
   ]
  },
  {
   "cell_type": "code",
   "execution_count": 56,
   "metadata": {
    "collapsed": false
   },
   "outputs": [],
   "source": [
    "df_20k = pd.DataFrame(data_to_predict, columns=['X', 'filename'])"
   ]
  },
  {
   "cell_type": "code",
   "execution_count": 57,
   "metadata": {
    "collapsed": false
   },
   "outputs": [
    {
     "name": "stdout",
     "output_type": "stream",
     "text": [
      "\n"
     ]
    }
   ],
   "source": [
    "dates_future, dates_intervals = get_features()"
   ]
  },
  {
   "cell_type": "code",
   "execution_count": 58,
   "metadata": {
    "collapsed": false
   },
   "outputs": [],
   "source": [
    "df_20k['n_of_dates_fut'] = dates_future\n",
    "df_20k['n_of_intervals'] = dates_intervals"
   ]
  },
  {
   "cell_type": "code",
   "execution_count": 59,
   "metadata": {
    "collapsed": false
   },
   "outputs": [],
   "source": [
    "new_df_20 = df_20k.dropna()"
   ]
  },
  {
   "cell_type": "code",
   "execution_count": 64,
   "metadata": {
    "collapsed": false
   },
   "outputs": [],
   "source": [
    "file = open('results_26Jan_random_docs.txt', 'a')"
   ]
  },
  {
   "cell_type": "code",
   "execution_count": 67,
   "metadata": {
    "collapsed": false
   },
   "outputs": [],
   "source": [
    "# for txt, dates, intervals in zip(new_df_20.X, new_df_20.n_of_dates_fut, new_df_20.n_of_intervals):\n",
    "#     X_2 = count_vect.transform([txt])\n",
    "#     X_2 = tf_transformer.transform(X_2)\n",
    "#     X20_selected= kbest.transform(X_2)\n",
    "#     X_prefinal = np.append(X20_selected.todense(), dates, axis=1)\n",
    "#     X_final = np.append(X_prefinal, intervals, axis=1)\n",
    "#     print(X_final)\n",
    "#     break"
   ]
  },
  {
   "cell_type": "code",
   "execution_count": null,
   "metadata": {
    "collapsed": true
   },
   "outputs": [],
   "source": []
  },
  {
   "cell_type": "code",
   "execution_count": null,
   "metadata": {
    "collapsed": true
   },
   "outputs": [],
   "source": []
  },
  {
   "cell_type": "code",
   "execution_count": 76,
   "metadata": {
    "collapsed": false
   },
   "outputs": [],
   "source": [
    "# count_vect = CountVectorizer()\n",
    "X_2 = count_vect.transform(new_df_20.X)\n",
    "# tf_transformer = TfidfTransformer()\n",
    "X_2 = tf_transformer.transform(X_2)"
   ]
  },
  {
   "cell_type": "code",
   "execution_count": 77,
   "metadata": {
    "collapsed": false
   },
   "outputs": [],
   "source": [
    "X20_selected= kbest.transform(X_2)"
   ]
  },
  {
   "cell_type": "code",
   "execution_count": 78,
   "metadata": {
    "collapsed": false
   },
   "outputs": [],
   "source": [
    "X_prefinal = np.append(X20_selected.todense(), list(new_df_20.n_of_dates_fut), axis=1)"
   ]
  },
  {
   "cell_type": "code",
   "execution_count": 79,
   "metadata": {
    "collapsed": false
   },
   "outputs": [],
   "source": [
    "X_final = np.append(X_prefinal, list(new_df_20.n_of_intervals), axis=1)"
   ]
  },
  {
   "cell_type": "code",
   "execution_count": 80,
   "metadata": {
    "collapsed": true
   },
   "outputs": [],
   "source": [
    "y_predict_20k_new_features = model.predict(X_final)"
   ]
  },
  {
   "cell_type": "code",
   "execution_count": null,
   "metadata": {
    "collapsed": false
   },
   "outputs": [],
   "source": []
  },
  {
   "cell_type": "code",
   "execution_count": 87,
   "metadata": {
    "collapsed": true
   },
   "outputs": [],
   "source": [
    "with open('results_26Jan_random_docs.txt', 'a') as file:\n",
    "    for prediction, filename in zip(y_predict_20k_new_features, new_df_20.filename):\n",
    "        file.write(prediction + ' ')\n",
    "        file.write(filename)\n",
    "        file.write('\\n')"
   ]
  },
  {
   "cell_type": "code",
   "execution_count": null,
   "metadata": {
    "collapsed": true
   },
   "outputs": [],
   "source": []
  }
 ],
 "metadata": {
  "anaconda-cloud": {},
  "kernelspec": {
   "display_name": "Python [conda root]",
   "language": "python",
   "name": "conda-root-py"
  },
  "language_info": {
   "codemirror_mode": {
    "name": "ipython",
    "version": 3
   },
   "file_extension": ".py",
   "mimetype": "text/x-python",
   "name": "python",
   "nbconvert_exporter": "python",
   "pygments_lexer": "ipython3",
   "version": "3.5.2"
  },
  "widgets": {
   "state": {
    "35d20482a7a24e86a66bf7aed3d926f6": {
     "views": [
      {
       "cell_index": 13
      }
     ]
    },
    "bb225515b19c498cb5d868f3b5606c04": {
     "views": [
      {
       "cell_index": 89
      }
     ]
    },
    "be4da9c7b14044b5b987d7be193c93df": {
     "views": [
      {
       "cell_index": 24
      }
     ]
    },
    "d19729f5f5f545c69f2936b66b2a4f79": {
     "views": [
      {
       "cell_index": 92
      }
     ]
    }
   },
   "version": "1.2.0"
  }
 },
 "nbformat": 4,
 "nbformat_minor": 2
}
